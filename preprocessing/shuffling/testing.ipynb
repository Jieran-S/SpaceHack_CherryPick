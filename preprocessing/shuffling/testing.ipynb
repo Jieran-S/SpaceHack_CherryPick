{
 "cells": [
  {
   "cell_type": "code",
   "execution_count": 1,
   "id": "ba391971-26a5-4f9e-86fe-a0237746c4e8",
   "metadata": {},
   "outputs": [
    {
     "data": {
      "text/html": [
       "<table class=\"dataframe\">\n",
       "<caption>A data.frame: 10 × 1</caption>\n",
       "<thead>\n",
       "\t<tr><th></th><th scope=col>label</th></tr>\n",
       "\t<tr><th></th><th scope=col>&lt;chr&gt;</th></tr>\n",
       "</thead>\n",
       "<tbody>\n",
       "\t<tr><th scope=row>ID1</th><td>Domain1</td></tr>\n",
       "\t<tr><th scope=row>ID2</th><td>Domain1</td></tr>\n",
       "\t<tr><th scope=row>ID3</th><td>Domain2</td></tr>\n",
       "\t<tr><th scope=row>ID4</th><td>Domain3</td></tr>\n",
       "\t<tr><th scope=row>ID5</th><td>Domain1</td></tr>\n",
       "\t<tr><th scope=row>ID6</th><td>Domain2</td></tr>\n",
       "\t<tr><th scope=row>ID7</th><td>Domain2</td></tr>\n",
       "\t<tr><th scope=row>ID8</th><td>Domain1</td></tr>\n",
       "\t<tr><th scope=row>ID9</th><td>Domain3</td></tr>\n",
       "\t<tr><th scope=row>ID10</th><td>Domain4</td></tr>\n",
       "</tbody>\n",
       "</table>\n"
      ],
      "text/latex": [
       "A data.frame: 10 × 1\n",
       "\\begin{tabular}{r|l}\n",
       "  & label\\\\\n",
       "  & <chr>\\\\\n",
       "\\hline\n",
       "\tID1 & Domain1\\\\\n",
       "\tID2 & Domain1\\\\\n",
       "\tID3 & Domain2\\\\\n",
       "\tID4 & Domain3\\\\\n",
       "\tID5 & Domain1\\\\\n",
       "\tID6 & Domain2\\\\\n",
       "\tID7 & Domain2\\\\\n",
       "\tID8 & Domain1\\\\\n",
       "\tID9 & Domain3\\\\\n",
       "\tID10 & Domain4\\\\\n",
       "\\end{tabular}\n"
      ],
      "text/markdown": [
       "\n",
       "A data.frame: 10 × 1\n",
       "\n",
       "| <!--/--> | label &lt;chr&gt; |\n",
       "|---|---|\n",
       "| ID1 | Domain1 |\n",
       "| ID2 | Domain1 |\n",
       "| ID3 | Domain2 |\n",
       "| ID4 | Domain3 |\n",
       "| ID5 | Domain1 |\n",
       "| ID6 | Domain2 |\n",
       "| ID7 | Domain2 |\n",
       "| ID8 | Domain1 |\n",
       "| ID9 | Domain3 |\n",
       "| ID10 | Domain4 |\n",
       "\n"
      ],
      "text/plain": [
       "     label  \n",
       "ID1  Domain1\n",
       "ID2  Domain1\n",
       "ID3  Domain2\n",
       "ID4  Domain3\n",
       "ID5  Domain1\n",
       "ID6  Domain2\n",
       "ID7  Domain2\n",
       "ID8  Domain1\n",
       "ID9  Domain3\n",
       "ID10 Domain4"
      ]
     },
     "metadata": {},
     "output_type": "display_data"
    }
   ],
   "source": [
    "df <- read.delim(\"test_labels.tsv\", sep = \"\\t\", row.names = 1)\n",
    "df"
   ]
  },
  {
   "cell_type": "code",
   "execution_count": null,
   "id": "a010c80d-2992-4bca-8c45-f5c1f17e4417",
   "metadata": {},
   "outputs": [],
   "source": []
  }
 ],
 "metadata": {
  "kernelspec": {
   "display_name": "R",
   "language": "R",
   "name": "ir"
  },
  "language_info": {
   "codemirror_mode": "r",
   "file_extension": ".r",
   "mimetype": "text/x-r-source",
   "name": "R",
   "pygments_lexer": "r",
   "version": "4.3.1"
  }
 },
 "nbformat": 4,
 "nbformat_minor": 5
}
