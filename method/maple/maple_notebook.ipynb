{
 "cells": [
  {
   "cell_type": "code",
   "execution_count": 6,
   "id": "072e0811-95c2-419d-ab42-739f5f038791",
   "metadata": {},
   "outputs": [],
   "source": [
    "suppressPackageStartupMessages({\n",
    "    library(optparse)\n",
    "    library(SpatialExperiment)\n",
    "    library(Seurat)\n",
    "    library(maple)\n",
    "})"
   ]
  },
  {
   "cell_type": "code",
   "execution_count": 18,
   "id": "44be9782-0e89-4d09-ba7f-b8456a035d57",
   "metadata": {},
   "outputs": [],
   "source": [
    "test_dir=\"/home/jovyan/scratch/SpaceHack2/userfolders/gmoranzoni/maple\" # output_dir, can be modified\n",
    "\n",
    "test_data=\"/home/jovyan/scratch/SpaceHack2/data/LIBD_DLPFC/Br5292_151507\"\n",
    "test_data_processed=\"/home/jovyan/scratch/SpaceHack2/method_results/LIBD_DLPFC/Br5292_151507\"\n",
    "\n",
    "dimred_file <- file.path(test_data_processed, \"log1p/hvg/pca_20/dimensionality_reduction.tsv\")\n",
    "feature_file <- file.path(test_data_processed, \"log1p/hvg/features.tsv\")\n",
    "observation_file <- file.path(test_data, \"observations.tsv\")\n",
    "neighbor_file <- file.path(test_data_processed, \"/delaunay/neighbors.mtx\")\n",
    "coord_file <- file.path(test_data, \"coordinates.tsv\")\n",
    "matrix_file <- file.path(test_data, \"counts.mtx\")\n",
    "n_clusters <- 7\n",
    "technology <- \"Visium\"\n",
    "seed <- 42 "
   ]
  },
  {
   "cell_type": "code",
   "execution_count": 19,
   "id": "b257ca4d-db6f-4f26-b3b0-7f13faa75e71",
   "metadata": {},
   "outputs": [],
   "source": [
    "# You can get SpatialExperiment directly\n",
    "get_SpatialExperiment <- function(\n",
    "    feature_file,\n",
    "    observation_file,\n",
    "    coord_file,\n",
    "    matrix_file = NA,\n",
    "    reducedDim_file = NA,\n",
    "    assay_name = \"counts\",\n",
    "    reducedDim_name = \"PCs\") {\n",
    "  rowData <- read.delim(feature_file, stringsAsFactors = FALSE, row.names = 1)\n",
    "  colData <- read.delim(observation_file, stringsAsFactors = FALSE, row.names = 1)\n",
    "\n",
    "  coordinates <- read.delim(coord_file, sep = \"\\t\", row.names = 1)\n",
    "  coordinates <- as.matrix(coordinates[rownames(colData), ])\n",
    "  coordinates[,c(1:2)] <- as.numeric(coordinates[,c(1:2)])\n",
    "\n",
    "    \n",
    "    if (!is.na(reducedDim_file)) {\n",
    "    dimRed <- read.delim(reducedDim_file, stringsAsFactors = FALSE, row.names = 1)\n",
    "    #reducedDim(spe, reducedDim_name) <- as.matrix(dimRed[colnames(spe), ])\n",
    "  }\n",
    "  spe <- SpatialExperiment::SpatialExperiment(\n",
    "    rowData = rowData, colData = colData, spatialCoords = coordinates,\n",
    "      reducedDims = list(pca = as.matrix(dimRed[rownames(colData), ]))\n",
    "  )\n",
    "\n",
    "  if (!is.na(matrix_file)) {\n",
    "    assay(spe, \"counts\", withDimnames = FALSE) <- as(Matrix::t(Matrix::readMM(matrix_file)), \"CsparseMatrix\")\n",
    "    assay(spe, \"logcounts\", withDimnames = FALSE) <- as(Matrix::t(Matrix::readMM(matrix_file)), \"CsparseMatrix\")\n",
    "  }\n",
    "\n",
    "  # Filter features and samples\n",
    "  if (\"selected\" %in% colnames(rowData(spe))) {\n",
    "    spe <- spe[as.logical(rowData(spe)$selected), ]\n",
    "  }\n",
    "  if (\"selected\" %in% colnames(colData(spe))) {\n",
    "    spe <- spe[, as.logical(colData(spe)$selected)]\n",
    "  }\n",
    "\n",
    "  \n",
    "  return(spe)\n",
    "}"
   ]
  },
  {
   "cell_type": "code",
   "execution_count": 22,
   "id": "8f016277-3ba9-48f5-8710-66ae6d79a8c9",
   "metadata": {},
   "outputs": [
    {
     "name": "stderr",
     "output_type": "stream",
     "text": [
      "Warning message:\n",
      "“Keys should be one or more alphanumeric characters followed by an underscore, setting key from pca to pca_”\n"
     ]
    },
    {
     "name": "stdout",
     "output_type": "stream",
     "text": [
      "[1] \"Dispatching to appropriate model fit function\"\n",
      "[1] \"Started MCMC of 2000\"\n",
      "  |======================================================================| 100%\n",
      "[1] \"Finished MCMC after 2485.409 seconds\"\n"
     ]
    }
   ],
   "source": [
    "# You can use the data as SpatialExperiment\n",
    "spe <- get_SpatialExperiment(feature_file = feature_file,observation_file = observation_file,\n",
    "                                    coord_file = coord_file, reducedDim_file = dimred_file, \n",
    "                             matrix_file = matrix_file)\n",
    "\n",
    "## Your code goes here\n",
    "# TODO\n",
    "seurat_obj <- as.Seurat(spe)\n",
    "\n",
    "#coordinates <- read.delim(coord_file, sep = \"\\t\", row.names = 1)\n",
    "#coordinates <- as.matrix(coordinates[rownames(colData(spe)), ])\n",
    "#coordinates[,c(1:2)] <- as.numeric(coordinates[,c(1:2)])\n",
    "#rownames(coordinates) <- c(\"row\", \"col\")\n",
    "\n",
    "    # get spatial coordinates\n",
    "#xy <- c(\"image_row\", \"image_col\")\n",
    "#if (!all(xy %in% names(colData)))\n",
    "#  xy <- c(\"x\", \"y\")\n",
    "#xy <- colData[xy]\n",
    "#colnames(xy) <- c(\"row\", \"col\")\n",
    "\n",
    "# Insert image coordinates\n",
    "seurat_obj@images$image =  new(\n",
    "  Class = 'SlideSeq',\n",
    "  assay = \"Spatial\",\n",
    "  key = \"coordinates_\",\n",
    "  coordinates = as.data.frame(colData(spe))\n",
    ")\n",
    "\n",
    "\n",
    "# Run spruce\n",
    "maple_results <- fit_maple(\n",
    "  seurat_obj, \n",
    "  K = n_clusters, \n",
    "  emb = \"PCs\", \n",
    "  covars = \"sample_id\" #, n_dim = d \n",
    "  )"
   ]
  },
  {
   "cell_type": "code",
   "execution_count": 44,
   "id": "0667eb48-6dda-45f2-a1ce-3d7fc9852a7c",
   "metadata": {},
   "outputs": [],
   "source": [
    "embedding_df <- as.data.frame(maple_results$Y)"
   ]
  },
  {
   "cell_type": "code",
   "execution_count": 40,
   "id": "cbb6e755-93a6-4bd1-ab87-4925a9d197ca",
   "metadata": {},
   "outputs": [],
   "source": [
    "# save data\n",
    "label_df <- data.frame(\"label\" = maple_results$z, row.names=colnames(seurat_obj))\n",
    "# The data.frames with observations may contain a column \"selected\" which you need to use to\n",
    "# subset and also use to subset coordinates, neighbors, (transformed) count matrix\n",
    "# label_df = ...  # data.frame with row.names (cell-id/barcode) and 1 column (label)\n",
    "# embedding_df = NULL  # optional, data.frame with row.names (cell-id/barcode) and n columns"
   ]
  },
  {
   "cell_type": "code",
   "execution_count": null,
   "id": "d492c2b9-c70d-4ad5-a0c0-ad809116160f",
   "metadata": {},
   "outputs": [],
   "source": [
    "## Write output\n",
    "dir.create(out_dir, showWarnings = FALSE, recursive = TRUE)\n",
    "\n",
    "colnames(label_df) <- c(\"label\")\n",
    "write.table(label_df, file = label_file, sep = \"\\t\", col.names = NA, quote = FALSE)\n",
    "if (exists(\"embedding_df\")) {\n",
    "  write.table(embedding_df, file = embedding_file, sep = \"\\t\", col.names = NA, quote = FALSE)\n",
    "}"
   ]
  }
 ],
 "metadata": {
  "kernelspec": {
   "display_name": "R.4.3.1",
   "language": "R",
   "name": "ir431"
  },
  "language_info": {
   "codemirror_mode": "r",
   "file_extension": ".r",
   "mimetype": "text/x-r-source",
   "name": "R",
   "pygments_lexer": "r",
   "version": "4.3.2"
  }
 },
 "nbformat": 4,
 "nbformat_minor": 5
}
